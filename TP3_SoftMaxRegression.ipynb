{
 "cells": [
  {
   "cell_type": "markdown",
   "metadata": {},
   "source": [
    "# Machine Learning\n",
    "# Logistic Regression and SoftMax for MNIST"
   ]
  },
  {
   "cell_type": "markdown",
   "metadata": {},
   "source": [
    "## SoftMax regression"
   ]
  },
  {
   "cell_type": "markdown",
   "metadata": {},
   "source": [
    "SoftMax regression is useful for classification tasks involving $J > 2$ categories. "
   ]
  },
  {
   "cell_type": "markdown",
   "metadata": {},
   "source": [
    "### The statistical model"
   ]
  },
  {
   "cell_type": "markdown",
   "metadata": {},
   "source": [
    "Each class is marked by a number $j$ ranging from $0$ to $J-1$. For a sample in class $j$, its label is shaped as a one-hot vector, namely a $J$-vector whose only the $j^{\\rm th}$ element is non-zero and equal to $1$.\n",
    "\n",
    "SoftMax regression returns the probability that the sample $x_i$ belongs to class $l$, given the features weights $\\bf{w}$."
   ]
  },
  {
   "cell_type": "markdown",
   "metadata": {},
   "source": [
    "$$ \\sigma(l|x, {\\bf w}) = \\frac{e^{ {\\bf w}_l \\cdot x}}{\\sum_{j=0}^{J} e^{ {\\bf w}_j \\cdot x}} $$"
   ]
  },
  {
   "cell_type": "markdown",
   "metadata": {},
   "source": [
    "The predicted label is then the most likely class $\\mathrm{arg\\ max}_j \\ \\sigma(j|x, {\\bf w})$"
   ]
  },
  {
   "cell_type": "markdown",
   "metadata": {},
   "source": [
    "- Likelihood "
   ]
  },
  {
   "cell_type": "markdown",
   "metadata": {},
   "source": [
    "The likelihood $\\mathcal{L}$ of the dataset, given the features weights, is:\n",
    "$$\n",
    "\\mathcal{L} = \\prod_{i=1}^{N} P(y_i \\vert x_i, {\\bf w}) = \\prod_{i=1}^{N}  \\prod_{j=1}^J \\sigma(j \\vert x_i, {\\bf w})^{y_{i, j}}$$"
   ]
  },
  {
   "cell_type": "markdown",
   "metadata": {},
   "source": [
    "since the data samples are independent and $y_{i, j}=0$ except for the class it belongs to."
   ]
  },
  {
   "cell_type": "markdown",
   "metadata": {},
   "source": [
    " - The negative log-likelihood reads:"
   ]
  },
  {
   "cell_type": "markdown",
   "metadata": {},
   "source": [
    "$$ \\begin{align}\n",
    "- \\ln \\mathcal{L} &= - \\sum_{i=1}^{N} \\sum_{j=1}^J y_{i, j} \\ln \\sigma(j \\vert x_i, {\\bf w}) \\\\\n",
    "&= - \\sum_{i=1}^{N} \\sum_{j=1}^J y_{i, j} \\left( {\\bf w_j} \\cdot x_i - \\ln \\sum_{l=1}^J e^{{\\bf w_l} \\cdot x_i} \\right) \n",
    "\\end{align}\n",
    "$$"
   ]
  },
  {
   "cell_type": "markdown",
   "metadata": {},
   "source": [
    "- Gradient of the loss"
   ]
  },
  {
   "cell_type": "markdown",
   "metadata": {},
   "source": [
    "We consider one sample $x$ and the corresponding loss function $l = - \\sum_{j=1}^{J} y_{j} \\left( {\\bf w_j} \\cdot x - \\ln \\sum_{l=1}^{J} e^{ {\\bf w_l} \\cdot x}\\right)$. Its partial derivative with respect to the $k^{th}$ component of the weight vector ${\\bf w_k}$ yields:"
   ]
  },
  {
   "cell_type": "markdown",
   "metadata": {},
   "source": [
    "$$\n",
    "\\partial_{\\bf w_k} l = - \\sum_{j=1}^{J}x\\,  y_{j}\\, \\delta_{j, k} + \\sum_{j=1}^{J} x \\, y_{j} \\frac{e^{ {\\bf w_k} \\cdot x}}{\\sum_{l=1}^{J} e^{ {\\bf w_l} \\cdot x}}\n",
    "$$"
   ]
  },
  {
   "cell_type": "markdown",
   "metadata": {},
   "source": [
    "The first sum reduces to $x \\, y_k$. We recognize in the second one the probability $\\sigma(k \\vert x, {\\bf w})$ of $x$ belonging to the $k^{th}$ class, which does not depend on $j$. The sum over all elements of the label vector $y$ equals $1$. We obtain\n",
    "$$\n",
    "\\partial_{\\bf w_k} l =  x \\left(\\sigma(k \\vert x, {\\bf w}) -  y_{k} \\right)\n",
    "$$"
   ]
  },
  {
   "cell_type": "markdown",
   "metadata": {},
   "source": [
    "The gradient of the loss function for the whole data set comes down to\n",
    "$$ \\nabla_{\\bf w} \\left[ - \\ln \\mathcal{L} \\right] = \\sum_{i=1}^{N} x_i \\left( \\hat{y}_{i} - y_i \\right)$$\n",
    "where $\\hat{y}$ indicates the estimated label vector $\\left( \\sigma(1 \\vert x, {\\bf w}), \\ldots,  \\sigma(J\\vert x, {\\bf w}) \\right)$. Matricially:\n",
    "$$\\boxed{ \\nabla_{\\bf w} \\left[ - \\ln \\mathcal{L} \\right] = X^T \\left( \\hat{Y} - Y \\right) }$$"
   ]
  },
  {
   "cell_type": "markdown",
   "metadata": {},
   "source": [
    "## Numerical Experiments"
   ]
  },
  {
   "cell_type": "markdown",
   "metadata": {},
   "source": [
    "We work on the MNIST dataset. The goal is to classify hand-written numbers using SoftMax Regression."
   ]
  },
  {
   "cell_type": "code",
   "execution_count": 1,
   "metadata": {},
   "outputs": [
    {
     "name": "stdout",
     "output_type": "stream",
     "text": [
      "Automatically created module for IPython interactive environment\n",
      "70000\n"
     ]
    }
   ],
   "source": [
    "import time\n",
    "import numpy as np\n",
    "\n",
    "from sklearn.datasets import fetch_openml # MNIST data\n",
    "from sklearn.linear_model import LogisticRegression\n",
    "from sklearn.model_selection import train_test_split\n",
    "from sklearn.preprocessing import StandardScaler\n",
    "from sklearn.utils import check_random_state\n",
    "\n",
    "print(__doc__)\n",
    "\n",
    "# Turn down for faster convergence\n",
    "t0 = time.time()\n",
    "train_size = 50000\n",
    "test_size = 10000\n",
    "\n",
    "### load MNIST data from https://www.openml.org/d/554\n",
    "X, y = fetch_openml('mnist_784', version=1, return_X_y=True)\n",
    "n_total = len(X)\n",
    "print(n_total)"
   ]
  },
  {
   "cell_type": "markdown",
   "metadata": {},
   "source": [
    "The data is shuffle by default by the `train_test_split` method."
   ]
  },
  {
   "cell_type": "code",
   "execution_count": 2,
   "metadata": {},
   "outputs": [
    {
     "name": "stdout",
     "output_type": "stream",
     "text": [
      "Example run in 175.370 s\n",
      "Sparsity with L2 penalty: 8.93%\n",
      "Test score with L2 penalty: 0.8879\n"
     ]
    }
   ],
   "source": [
    "# pick training and test data sets \n",
    "X_train, X_test, y_train, y_test = train_test_split(X, y, \n",
    "                                                    train_size=train_size,\n",
    "                                                    test_size=test_size)\n",
    "\n",
    "# scale data to have zero mean and unit variance \n",
    "# [required by regressor]\n",
    "scaler = StandardScaler()\n",
    "X_train = scaler.fit_transform(X_train)\n",
    "X_test = scaler.transform(X_test)\n",
    "\n",
    "# apply logistic regressor with 'sag' solver, C is the inverse regularization strength\n",
    "clf = LogisticRegression(penalty='l2', tol=0.1, C=1.0, solver='sag',\n",
    "                         multi_class='multinomial')\n",
    "# fit data\n",
    "clf.fit(X_train, y_train)\n",
    "# percentage of zero weights\n",
    "sparsity = np.mean(clf.coef_ == 0) * 100\n",
    "# compute accuracy\n",
    "score = clf.score(X_test, y_test)\n",
    "\n",
    "#display run time\n",
    "run_time = time.time() - t0\n",
    "print('Example run in %.3f s' % run_time)\n",
    "\n",
    "print(\"Sparsity with L2 penalty: %.2f%%\" % sparsity)\n",
    "print(\"Test score with L2 penalty: %.4f\" % score)"
   ]
  },
  {
   "cell_type": "code",
   "execution_count": 3,
   "metadata": {},
   "outputs": [
    {
     "data": {
      "image/png": "[encoded data removed]",
      "text/plain": [
       "<Figure size 720x360 with 10 Axes>"
      ]
     },
     "metadata": {},
     "output_type": "display_data"
    }
   ],
   "source": [
    "%matplotlib inline\n",
    "import matplotlib.pyplot as plt\n",
    "\n",
    "# plot weights VS the pixel position\n",
    "coef = clf.coef_.copy()\n",
    "plt.figure(figsize=(10, 5))\n",
    "scale = np.abs(coef).max() \n",
    "# extract the greater coefficient (weight) in absolute value \n",
    "# for scaling of the grey colormap\n",
    "for i in range(10):\n",
    "    l2_plot = plt.subplot(2, 5, i+1)\n",
    "    # Three integers (nrows, ncols, index). \n",
    "    # The subplot will take the index position on a grid \n",
    "    # with nrows rows and ncols columns. \n",
    "    # index starts at 1 in the upper left corner \n",
    "    # and increases to the right. \n",
    "    # from plt.subplot documentation\n",
    "    l2_plot.imshow(coef[i].reshape(28, 28), interpolation='nearest',\n",
    "                   cmap=plt.cm.Greys, vmin=-scale, vmax=scale)\n",
    "    l2_plot.set_xticks(())\n",
    "    l2_plot.set_yticks(())\n",
    "    # no ticks\n",
    "    l2_plot.set_xlabel('Class %i' % i)\n",
    "plt.suptitle('Classiffication weights vector $w_j$ for digit class $j$')\n",
    "plt.show()"
   ]
  },
  {
   "cell_type": "markdown",
   "metadata": {},
   "source": [
    "Keep in mind that the classifier works on a 1D array. It doesn't know the spatial configuration."
   ]
  },
  {
   "cell_type": "markdown",
   "metadata": {},
   "source": [
    "## Exercices"
   ]
  },
  {
   "cell_type": "markdown",
   "metadata": {},
   "source": [
    "####  Same thing with L1 Regularization"
   ]
  },
  {
   "cell_type": "code",
   "execution_count": 4,
   "metadata": {},
   "outputs": [
    {
     "name": "stdout",
     "output_type": "stream",
     "text": [
      "Example run in 313.815 s\n",
      "Sparsity with L1 penalty: 36.57%\n",
      "Test score with L1 penalty: 0.9073\n"
     ]
    }
   ],
   "source": [
    "#https://numpy.org/doc/stable/reference/generated/numpy.where.html\n",
    "# apply logistic regressor with 'sag' solver, \n",
    "#C is the inverse regularization strength\n",
    "clf_l1 = LogisticRegression(penalty='l1', tol=0.1, C=0.1, \n",
    "                            solver='saga')\n",
    "# fit data\n",
    "clf_l1.fit(X_train, y_train)\n",
    "# percentage of zero weights\n",
    "sparsity = np.mean(clf_l1.coef_ == 0) * 100\n",
    "# compute accuracy\n",
    "score = clf_l1.score(X_test, y_test)\n",
    "\n",
    "#display run time\n",
    "run_time = time.time() - t0\n",
    "print('Example run in %.3f s' % run_time)\n",
    "\n",
    "print(\"Sparsity with L1 penalty: %.2f%%\" % sparsity)\n",
    "print(\"Test score with L1 penalty: %.4f\" % score)"
   ]
  },
  {
   "cell_type": "markdown",
   "metadata": {},
   "source": [
    "Remark: sparcity increases, as expected."
   ]
  },
  {
   "cell_type": "code",
   "execution_count": 5,
   "metadata": {},
   "outputs": [
    {
     "data": {
      "image/png": "[encoded data removed]",
      "text/plain": [
       "<Figure size 720x360 with 10 Axes>"
      ]
     },
     "metadata": {},
     "output_type": "display_data"
    }
   ],
   "source": [
    "%matplotlib inline\n",
    "import matplotlib.pyplot as plt\n",
    "\n",
    "# plot weights VS the pixel position\n",
    "coef_l1 = clf_l1.coef_.copy()\n",
    "plt.figure(figsize=(10, 5))\n",
    "scale_l1 = np.abs(coef_l1).max() \n",
    "# extract the greater coefficient (weight) in absolute value \n",
    "# for scaling of the grey colormap\n",
    "for i in range(10):\n",
    "    l1_plot = plt.subplot(2, 5, i+1)\n",
    "    # Three integers (nrows, ncols, index). \n",
    "    # The subplot will take the index position on a grid \n",
    "    # with nrows rows and ncols columns. \n",
    "    # index starts at 1 in the upper left corner \n",
    "    # and increases to the right. \n",
    "    # from plt.subplot documentation\n",
    "    l1_plot.imshow(coef_l1[i].reshape(28, 28), interpolation='nearest',\n",
    "                   cmap=plt.cm.Greys, vmin=-scale_l1, vmax=scale_l1)\n",
    "    l1_plot.set_xticks(())\n",
    "    l1_plot.set_yticks(())\n",
    "    # no ticks\n",
    "    l1_plot.set_xlabel('Class %i' % i)\n",
    "plt.suptitle('Classiffication weights vector $w_j$ for digit class $j$ with L1 Regularization')\n",
    "plt.show()"
   ]
  },
  {
   "cell_type": "markdown",
   "metadata": {},
   "source": [
    "The medium grey areas are those whose coefficient is $0$: the classifier does not find useful information in there."
   ]
  },
  {
   "cell_type": "markdown",
   "metadata": {},
   "source": [
    "#### Misclassified samples"
   ]
  },
  {
   "cell_type": "markdown",
   "metadata": {},
   "source": [
    "We use the L2 classifier."
   ]
  },
  {
   "cell_type": "code",
   "execution_count": 7,
   "metadata": {},
   "outputs": [
    {
     "name": "stdout",
     "output_type": "stream",
     "text": [
      "['1' '7' '9' '6']\n"
     ]
    }
   ],
   "source": [
    "y_train_est = clf.predict(X_train)\n",
    "misclassified_indexes = np.where(y_train != y_train_est)\n",
    "\n",
    "from random import sample\n",
    "nums=sample(list(misclassified_indexes[0]),4)\n",
    "\n",
    "mislabels = y_train_est[nums]\n",
    "print(mislabels)"
   ]
  },
  {
   "cell_type": "code",
   "execution_count": 8,
   "metadata": {},
   "outputs": [
    {
     "data": {
      "image/png": "[encoded data removed]",
      "text/plain": [
       "<Figure size 720x360 with 4 Axes>"
      ]
     },
     "metadata": {},
     "output_type": "display_data"
    }
   ],
   "source": [
    "plt.figure(figsize=(10, 5))\n",
    "for i in range(4):\n",
    "    subplt = plt.subplot(1, 4, i+1)\n",
    "    subplt.imshow(X_train[nums[i]].reshape(28, 28), cmap=plt.cm.Greys)\n",
    "    subplt.set_xticks(())\n",
    "    subplt.set_yticks(())\n",
    "    subplt.set_xlabel(\"predict: %s\" % mislabels[i])"
   ]
  },
  {
   "cell_type": "markdown",
   "metadata": {},
   "source": [
    "Dark zones must match high valued coefficients. White zones must match nearly null coefficients."
   ]
  },
  {
   "cell_type": "markdown",
   "metadata": {},
   "source": [
    "Here the samples are overexposed, with little and uncharacteristic dark zones."
   ]
  },
  {
   "cell_type": "markdown",
   "metadata": {},
   "source": [
    "#### Accuracy w.r.t. training set size"
   ]
  },
  {
   "cell_type": "code",
   "execution_count": 18,
   "metadata": {},
   "outputs": [
    {
     "name": "stdout",
     "output_type": "stream",
     "text": [
      "[0.05 0.15 0.25 0.35 0.45 0.55 0.65 0.75 0.85 0.95]\n"
     ]
    }
   ],
   "source": [
    "test_score_list = []\n",
    "train_score_list = []\n",
    "train_ratio_list = np.linspace(0.05, 0.95, 2)\n",
    "print(train_ratio_list)"
   ]
  },
  {
   "cell_type": "code",
   "execution_count": 19,
   "metadata": {},
   "outputs": [
    {
     "name": "stdout",
     "output_type": "stream",
     "text": [
      "Train size: 3500 -- test score: 0.8650075187969924\n",
      "Train size: 10500 -- test score: 0.8772436974789916\n",
      "Train size: 17500 -- test score: 0.8855047619047619\n",
      "Train size: 24500 -- test score: 0.8832527472527473\n",
      "Train size: 31499 -- test score: 0.8759512739928833\n",
      "Train size: 38499 -- test score: 0.8823846862004381\n",
      "Train size: 45500 -- test score: 0.8797142857142857\n",
      "Train size: 52500 -- test score: 0.8904\n",
      "Train size: 59500 -- test score: 0.8823809523809524\n",
      "Train size: 66500 -- test score: 0.8914285714285715\n"
     ]
    }
   ],
   "source": [
    "for train_ratio in train_ratio_list:\n",
    "    \n",
    "    train_size = int(n_total * train_ratio)\n",
    "    \n",
    "    # create train and test sets\n",
    "    X_train, X_test, y_train, y_test = train_test_split(X, y, \n",
    "                                                        train_size=train_size)\n",
    "    \n",
    "    # re-scaling the data  \n",
    "    scaler = StandardScaler()\n",
    "    X_train = scaler.fit_transform(X_train)\n",
    "    X_test = scaler.transform(X_test)\n",
    "    \n",
    "    # classifier\n",
    "    clf = LogisticRegression(penalty='l2', tol=0.1, C=1e5, solver='saga',\n",
    "                         multi_class='multinomial')\n",
    "    clf.fit(X_train, y_train)\n",
    "    test_score = clf.score(X_test, y_test)\n",
    "    train_score = clf.score(X_train, y_train)\n",
    "    print(\"Train size: {} -- test score: {}\".format(train_size, \n",
    "                                                    test_score))\n",
    "    test_score_list.append(test_score)\n",
    "    train_score_list.append(train_score)"
   ]
  },
  {
   "cell_type": "code",
   "execution_count": 25,
   "metadata": {},
   "outputs": [],
   "source": [
    "size_list = train_ratio_list*n_total"
   ]
  },
  {
   "cell_type": "code",
   "execution_count": 26,
   "metadata": {},
   "outputs": [
    {
     "data": {
      "text/plain": [
       "<matplotlib.legend.Legend at 0x7f52add54a60>"
      ]
     },
     "execution_count": 26,
     "metadata": {},
     "output_type": "execute_result"
    },
    {
     "data": {
      "image/png": "[encoded data removed]",
      "text/plain": [
       "<Figure size 720x360 with 1 Axes>"
      ]
     },
     "metadata": {
      "needs_background": "light"
     },
     "output_type": "display_data"
    }
   ],
   "source": [
    "plt.figure(figsize=(10, 5))\n",
    "plt.plot(size_list, test_score_list, label=\"test\")\n",
    "plt.plot(size_list, train_score_list, label=\"train\")\n",
    "plt.xlabel('Training set size')\n",
    "plt.ylabel('Score ($R^2$)')\n",
    "plt.title(\"Accuracy w.r.t. Training set size\")\n",
    "plt.legend()"
   ]
  },
  {
   "cell_type": "markdown",
   "metadata": {},
   "source": [
    "This plot shows a first phase where the training set score decreases while the test set score rises. Then, from around $50000$ samples in the training set (for a ratio test set size/train set size lesser than 0.4), the classifier performs similarly on both sets. "
   ]
  },
  {
   "cell_type": "markdown",
   "metadata": {},
   "source": [
    "## Conclusion on the SoftMax Regression"
   ]
  },
  {
   "cell_type": "markdown",
   "metadata": {},
   "source": [
    "We discovered how to deal with about multi-class regression and applied sklearn's correspnding functions to the MNIST dataset."
   ]
  }
 ],
 "metadata": {
  "kernelspec": {
   "display_name": "Python 3",
   "language": "python",
   "name": "python3"
  },
  "language_info": {
   "codemirror_mode": {
    "name": "ipython",
    "version": 3
   },
   "file_extension": ".py",
   "mimetype": "text/x-python",
   "name": "python",
   "nbconvert_exporter": "python",
   "pygments_lexer": "ipython3",
   "version": "3.8.3"
  }
 },
 "nbformat": 4,
 "nbformat_minor": 4
}
